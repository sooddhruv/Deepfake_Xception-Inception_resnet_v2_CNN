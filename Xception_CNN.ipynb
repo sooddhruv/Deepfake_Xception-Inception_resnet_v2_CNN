{
  "nbformat": 4,
  "nbformat_minor": 0,
  "metadata": {
    "colab": {
      "name": "Xception_CNN.ipynb",
      "provenance": [],
      "collapsed_sections": [],
      "authorship_tag": "ABX9TyODPuXTnZALxlBUOU1+5YAm",
      "include_colab_link": true
    },
    "kernelspec": {
      "name": "python3",
      "display_name": "Python 3"
    },
    "language_info": {
      "name": "python"
    },
    "accelerator": "GPU"
  },
  "cells": [
    {
      "cell_type": "markdown",
      "metadata": {
        "id": "view-in-github",
        "colab_type": "text"
      },
      "source": [
        "<a href=\"https://colab.research.google.com/github/sooddhruv/Deepfake_Xception-Inception_resnet_v2_CNN/blob/main/Xception_CNN.ipynb\" target=\"_parent\"><img src=\"https://colab.research.google.com/assets/colab-badge.svg\" alt=\"Open In Colab\"/></a>"
      ]
    },
    {
      "cell_type": "code",
      "metadata": {
        "id": "XuuGXKmEw_SX"
      },
      "source": [
        "import dlib\n",
        "import cv2\n",
        "import os\n",
        "import re\n",
        "import json\n",
        "from pylab import *\n",
        "from PIL import Image, ImageChops, ImageEnhance\n",
        "import tensorflow as tf\n",
        "import numpy as np\n",
        "import matplotlib.pyplot as plt\n",
        "import seaborn as sn\n",
        "import pandas as pd\n",
        "from tensorflow.keras.preprocessing.image import ImageDataGenerator, img_to_array, load_img\n",
        "from tensorflow.keras.utils import to_categorical\n",
        "from sklearn.model_selection import train_test_split\n",
        "from sklearn.metrics import confusion_matrix,f1_score,classification_report\n",
        "from tensorflow.keras.models import load_model"
      ],
      "execution_count": null,
      "outputs": []
    },
    {
      "cell_type": "code",
      "metadata": {
        "colab": {
          "base_uri": "https://localhost:8080/"
        },
        "id": "AqzMjfwYxMpJ",
        "outputId": "179ead36-ff08-4528-b7d4-d39f7290a745"
      },
      "source": [
        "from google.colab import drive\n",
        "drive.mount('/content/drive')\n"
      ],
      "execution_count": null,
      "outputs": [
        {
          "output_type": "stream",
          "name": "stdout",
          "text": [
            "Mounted at /content/drive\n"
          ]
        }
      ]
    },
    {
      "cell_type": "code",
      "metadata": {
        "id": "jbvU8hq8xFbJ"
      },
      "source": [
        "train_frame_folder = '/content/drive/MyDrive/Train'\n",
        "\n",
        "#loading the data from json file\n",
        "with open(os.path.join(train_frame_folder, 'metadata.json'), 'r') as file:\n",
        "    data = json.load(file)\n",
        "    \n",
        "# Saving the names of videos in a list\n",
        "\n",
        "list_of_train_data = []\n",
        "\n",
        "for f in os.listdir(train_frame_folder):\n",
        "    if f.endswith('.mp4'):\n",
        "        list_of_train_data.append(f)\n",
        "\n",
        "detector = dlib.get_frontal_face_detector()\n",
        "for vid in list_of_train_data:\n",
        "    count = 0\n",
        "    cap = cv2.VideoCapture(os.path.join(train_frame_folder, vid))\n",
        "    frameRate = cap.get(5)\n",
        "    while cap.isOpened():\n",
        "        frameId = cap.get(1)\n",
        "        ret, frame = cap.read()\n",
        "        if ret != True:\n",
        "            break\n",
        "        if frameId % ((int(frameRate)+1)*1) == 0:\n",
        "            face_rects, scores, idx = detector.run(frame, 0)\n",
        "            for i, d in enumerate(face_rects):\n",
        "                x1 = d.left()\n",
        "                y1 = d.top()\n",
        "                x2 = d.right()\n",
        "                y2 = d.bottom()\n",
        "                crop_img = frame[y1:y2, x1:x2]\n",
        "                # Resizing the cropped image and saving it to dataset folder in png format\n",
        "                if data[vid]['label'] == 'REAL':\n",
        "                    cv2.imwrite('dataset/real/'+vid.split('.')[0]+'_'+str(count)+'.png', cv2.resize(crop_img, (224, 224)))\n",
        "                elif data[vid]['label'] == 'FAKE':\n",
        "                    cv2.imwrite('dataset/fake/'+vid.split('.')[0]+'_'+str(count)+'.png', cv2.resize(crop_img, (224, 224)))\n",
        "                count+=1"
      ],
      "execution_count": null,
      "outputs": []
    },
    {
      "cell_type": "code",
      "metadata": {
        "id": "6XLpgP6Fxp-f"
      },
      "source": [
        "input_shape = (224, 224, 3)\n",
        "data_dir = 'dataset'\n",
        "\n",
        "\n",
        "#Storing the real and fake image names in lists\n",
        "real_data = []\n",
        "fake_data = []\n",
        "\n",
        "for f in os.listdir(data_dir+'/real'):\n",
        "    if f.endswith('.png'):\n",
        "        real_data.append(f)\n",
        "    \n",
        "for f in os.listdir(data_dir+'/fake'):\n",
        "    if f.endswith('.png'):\n",
        "        fake_data.append(f)    \n",
        "\n",
        "#Creating an empty array to store the real and fake image data\n",
        "X = []\n",
        "\n",
        "#Creating an empty array store the labels\n",
        "Y = []\n",
        "\n",
        "\n",
        "#Appending Numpy array info of image to X and label info to Y (1 for real and 0 for fake)\n",
        "for img in real_data:\n",
        "    X.append(img_to_array(load_img(data_dir+'/real/'+img)).flatten() / 255.0)\n",
        "    Y.append(1)\n",
        "for img in fake_data:\n",
        "    X.append(img_to_array(load_img(data_dir+'/fake/'+img)).flatten() / 255.0)\n",
        "    Y.append(0)\n",
        "\n",
        "Y_val_org = Y\n",
        "\n",
        "#Normalization\n",
        "X = np.array(X)\n",
        "Y = to_categorical(Y, 2)\n",
        "\n",
        "#Reshape\n",
        "X = X.reshape(-1, 224, 224, 3)\n",
        "\n",
        "#Train-Test split\n",
        "X_train, X_val, Y_train, Y_val = train_test_split(X, Y, test_size = 0.25, random_state=5)"
      ],
      "execution_count": null,
      "outputs": []
    },
    {
      "cell_type": "code",
      "metadata": {
        "colab": {
          "base_uri": "https://localhost:8080/"
        },
        "id": "HlTzhTtp5tQG",
        "outputId": "93b6bef6-fbb1-45fb-d4a6-2bb6c4666639"
      },
      "source": [
        "from tensorflow.keras.applications import Xception\n",
        "from tensorflow.keras.layers import Conv2D, MaxPooling2D, Flatten, Dense, Dropout, InputLayer, GlobalAveragePooling2D\n",
        "from tensorflow.keras.models import Sequential, Model\n",
        "from tensorflow.keras import optimizers\n",
        "from tensorflow.keras.callbacks import ReduceLROnPlateau, EarlyStopping\n",
        "\n",
        "googleNet_model = Xception(include_top=False, weights='imagenet', input_shape=input_shape)\n",
        "googleNet_model.trainable = True\n",
        "model = Sequential()\n",
        "model.add(googleNet_model)\n",
        "model.add(GlobalAveragePooling2D())\n",
        "#model.add(Dense(units=64, activation='relu'))\n",
        "model.add(Dense(units=2, activation='softmax'))\n",
        "model.compile(loss='binary_crossentropy',\n",
        "              optimizer=optimizers.Adam(lr=1e-5, beta_1=0.9, beta_2=0.999, epsilon=None, decay=0.0, amsgrad=False),\n",
        "              metrics=['accuracy'])\n",
        "model.summary()"
      ],
      "execution_count": null,
      "outputs": [
        {
          "output_type": "stream",
          "name": "stdout",
          "text": [
            "Downloading data from https://storage.googleapis.com/tensorflow/keras-applications/xception/xception_weights_tf_dim_ordering_tf_kernels_notop.h5\n",
            "83689472/83683744 [==============================] - 1s 0us/step\n",
            "83697664/83683744 [==============================] - 1s 0us/step\n",
            "Model: \"sequential\"\n",
            "_________________________________________________________________\n",
            "Layer (type)                 Output Shape              Param #   \n",
            "=================================================================\n",
            "xception (Functional)        (None, 7, 7, 2048)        20861480  \n",
            "_________________________________________________________________\n",
            "global_average_pooling2d (Gl (None, 2048)              0         \n",
            "_________________________________________________________________\n",
            "dense (Dense)                (None, 2)                 4098      \n",
            "=================================================================\n",
            "Total params: 20,865,578\n",
            "Trainable params: 20,811,050\n",
            "Non-trainable params: 54,528\n",
            "_________________________________________________________________\n"
          ]
        },
        {
          "output_type": "stream",
          "name": "stderr",
          "text": [
            "/usr/local/lib/python3.7/dist-packages/keras/optimizer_v2/optimizer_v2.py:356: UserWarning: The `lr` argument is deprecated, use `learning_rate` instead.\n",
            "  \"The `lr` argument is deprecated, use `learning_rate` instead.\")\n"
          ]
        }
      ]
    },
    {
      "cell_type": "code",
      "metadata": {
        "colab": {
          "base_uri": "https://localhost:8080/"
        },
        "id": "uG19ZAN56L_h",
        "outputId": "6c5f16ba-fe68-4dfe-d624-e99bcfdc81a1"
      },
      "source": [
        "early_stopping = EarlyStopping(monitor='val_loss',\n",
        "                               min_delta=0,\n",
        "                               patience=2,\n",
        "                               verbose=0, mode='auto')\n",
        "EPOCHS = 10\n",
        "BATCH_SIZE = 25\n",
        "history = model.fit(X_train, Y_train, batch_size = BATCH_SIZE, epochs = EPOCHS, validation_data = (X_val, Y_val), verbose = 1)"
      ],
      "execution_count": null,
      "outputs": [
        {
          "output_type": "stream",
          "name": "stdout",
          "text": [
            "Epoch 1/10\n",
            "27/27 [==============================] - 73s 1s/step - loss: 0.6759 - accuracy: 0.6176 - val_loss: 0.7997 - val_accuracy: 0.2667\n",
            "Epoch 2/10\n",
            "27/27 [==============================] - 31s 1s/step - loss: 0.6109 - accuracy: 0.8676 - val_loss: 0.7193 - val_accuracy: 0.4489\n",
            "Epoch 3/10\n",
            "27/27 [==============================] - 31s 1s/step - loss: 0.5494 - accuracy: 0.8973 - val_loss: 0.6497 - val_accuracy: 0.6311\n",
            "Epoch 4/10\n",
            "27/27 [==============================] - 31s 1s/step - loss: 0.4888 - accuracy: 0.9271 - val_loss: 0.5704 - val_accuracy: 0.8000\n",
            "Epoch 5/10\n",
            "27/27 [==============================] - 31s 1s/step - loss: 0.4183 - accuracy: 0.9524 - val_loss: 0.4940 - val_accuracy: 0.8578\n",
            "Epoch 6/10\n",
            "27/27 [==============================] - 31s 1s/step - loss: 0.3548 - accuracy: 0.9702 - val_loss: 0.4290 - val_accuracy: 0.8756\n",
            "Epoch 7/10\n",
            "27/27 [==============================] - 31s 1s/step - loss: 0.2957 - accuracy: 0.9792 - val_loss: 0.3690 - val_accuracy: 0.8978\n",
            "Epoch 8/10\n",
            "27/27 [==============================] - 31s 1s/step - loss: 0.2397 - accuracy: 0.9807 - val_loss: 0.3171 - val_accuracy: 0.9156\n",
            "Epoch 9/10\n",
            "27/27 [==============================] - 31s 1s/step - loss: 0.1888 - accuracy: 0.9926 - val_loss: 0.2749 - val_accuracy: 0.9067\n",
            "Epoch 10/10\n",
            "27/27 [==============================] - 31s 1s/step - loss: 0.1549 - accuracy: 0.9926 - val_loss: 0.2516 - val_accuracy: 0.9156\n"
          ]
        }
      ]
    },
    {
      "cell_type": "code",
      "metadata": {
        "colab": {
          "base_uri": "https://localhost:8080/",
          "height": 417
        },
        "id": "ci_KGC6z7woT",
        "outputId": "5bc78008-017f-43b8-f234-6d367131c9b5"
      },
      "source": [
        "\n",
        "f, (ax1, ax2) = plt.subplots(1, 2, figsize=(25, 6))\n",
        "t = f.suptitle('Pre-trained Xception Transfer Learn with Fine-Tuning & Image Augmentation Performance ', fontsize=12)\n",
        "f.subplots_adjust(top=0.85, wspace=0.3)\n",
        "\n",
        "epoch_list = list(range(1,EPOCHS+1))\n",
        "ax1.plot(epoch_list, history.history['accuracy'], label='Train Accuracy')\n",
        "ax1.plot(epoch_list, history.history['val_accuracy'], label='Validation Accuracy')\n",
        "ax1.set_xticks(np.arange(0, EPOCHS+1, 1))\n",
        "ax1.set_ylabel('Accuracy Value')\n",
        "ax1.set_xlabel('Epoch #')\n",
        "ax1.set_title('Accuracy')\n",
        "l1 = ax1.legend(loc=\"best\")\n",
        "\n",
        "ax2.plot(epoch_list, history.history['loss'], label='Train Loss')\n",
        "ax2.plot(epoch_list, history.history['val_loss'], label='Validation Loss')\n",
        "ax2.set_xticks(np.arange(0, EPOCHS+1, 1))\n",
        "ax2.set_ylabel('Loss Value')\n",
        "ax2.set_xlabel('Epoch #')\n",
        "ax2.set_title('Loss')\n",
        "l2 = ax2.legend(loc=\"best\")"
      ],
      "execution_count": null,
      "outputs": [
        {
          "output_type": "display_data",
          "data": {
            "image/png": "[encoded data removed]",
            "text/plain": [
              "<Figure size 1800x432 with 2 Axes>"
            ]
          },
          "metadata": {
            "needs_background": "light"
          }
        }
      ]
    },
    {
      "cell_type": "code",
      "metadata": {
        "colab": {
          "base_uri": "https://localhost:8080/",
          "height": 418
        },
        "id": "TsR6Wlu577n7",
        "outputId": "edab66b0-2f19-406b-ab62-5da1707ae575"
      },
      "source": [
        "#Output confusion matrix\n",
        "def print_confusion_matrix(y_true, y_pred):\n",
        "    cm = confusion_matrix(y_true, y_pred)\n",
        "    print('True positive = ', cm[0][0])\n",
        "    print('False positive = ', cm[0][1])\n",
        "    print('False negative = ', cm[1][0])\n",
        "    print('True negative = ', cm[1][1])\n",
        "    print('\\n')\n",
        "    df_cm = pd.DataFrame(cm, range(2), range(2))\n",
        "    sn.set(font_scale=1.4) # for label size\n",
        "    sn.heatmap(df_cm, annot=True, annot_kws={\"size\": 16}) # font size\n",
        "    plt.ylabel('Actual label', size = 20)\n",
        "    plt.xlabel('Predicted label', size = 20)\n",
        "    plt.xticks(np.arange(2), ['Fake', 'Real'], size = 16)\n",
        "    plt.yticks(np.arange(2), ['Fake', 'Real'], size = 16)\n",
        "    plt.ylim([2, 0])\n",
        "    plt.show()\n",
        "    \n",
        "print_confusion_matrix(Y_val_org, np.argmax(model.predict(X),axis=-1))"
      ],
      "execution_count": null,
      "outputs": [
        {
          "output_type": "stream",
          "name": "stdout",
          "text": [
            "True positive =  707\n",
            "False positive =  5\n",
            "False negative =  17\n",
            "True negative =  168\n",
            "\n",
            "\n"
          ]
        },
        {
          "output_type": "display_data",
          "data": {
            "image/png": "[encoded data removed]",
            "text/plain": [
              "<Figure size 432x288 with 2 Axes>"
            ]
          },
          "metadata": {}
        }
      ]
    },
    {
      "cell_type": "code",
      "metadata": {
        "colab": {
          "base_uri": "https://localhost:8080/"
        },
        "id": "MMGHTDwC8GNd",
        "outputId": "20f050c6-4d04-4019-f919-f468dfce53f2"
      },
      "source": [
        "f1 = f1_score(Y_val_org, np.argmax(model.predict(X),axis=-1))\n",
        "cr = classification_report(Y_val_org, np.argmax(model.predict(X),axis = -1))\n",
        "print(f'f1 score (Xception) : {f1} \\n')\n",
        "print(f'Classification report : \\n{cr}')"
      ],
      "execution_count": null,
      "outputs": [
        {
          "output_type": "stream",
          "name": "stdout",
          "text": [
            "f1 score (Xception) : 0.9385474860335196 \n",
            "\n",
            "Classification report : \n",
            "              precision    recall  f1-score   support\n",
            "\n",
            "           0       0.98      0.99      0.98       712\n",
            "           1       0.97      0.91      0.94       185\n",
            "\n",
            "    accuracy                           0.98       897\n",
            "   macro avg       0.97      0.95      0.96       897\n",
            "weighted avg       0.98      0.98      0.98       897\n",
            "\n"
          ]
        }
      ]
    },
    {
      "cell_type": "code",
      "metadata": {
        "colab": {
          "base_uri": "https://localhost:8080/"
        },
        "id": "GxZPeplV8PtR",
        "outputId": "bed42f5e-7560-45b5-dbdb-ae70bda1740a"
      },
      "source": [
        "\n",
        "model.save('deepfake-detection-model.h5')"
      ],
      "execution_count": null,
      "outputs": [
        {
          "output_type": "stream",
          "name": "stderr",
          "text": [
            "/usr/local/lib/python3.7/dist-packages/keras/utils/generic_utils.py:497: CustomMaskWarning: Custom mask layers require a config and must override get_config. When loading, the custom mask layer must be passed to the custom_objects argument.\n",
            "  category=CustomMaskWarning)\n"
          ]
        }
      ]
    },
    {
      "cell_type": "code",
      "metadata": {
        "id": "QSr29RQB8V_I"
      },
      "source": [
        "model = load_model('deepfake-detection-model.h5')"
      ],
      "execution_count": null,
      "outputs": []
    },
    {
      "cell_type": "code",
      "metadata": {
        "colab": {
          "base_uri": "https://localhost:8080/"
        },
        "id": "c3fn6LHK8ZWD",
        "outputId": "d3fcb822-541a-4c90-bbb6-fc67c3639795"
      },
      "source": [
        "test_frame_folder = '/content/drive/MyDrive/test_videos'\n",
        "list_of_test_data = [f for f in os.listdir(test_frame_folder) if f.endswith('.mp4')]\n",
        "detector = dlib.get_frontal_face_detector()\n",
        "with open(os.path.join(test_frame_folder, 'metadata.json'), 'r') as file:\n",
        "    data_test = json.load(file)\n",
        "    \n",
        "actual_value = []\n",
        "predicted_value = []\n",
        "    \n",
        "print('Video_name\\tPredicted Actual')\n",
        "print('-------------------------------')\n",
        "    \n",
        "for vid in list_of_test_data:\n",
        "    count = 0\n",
        "    cap = cv2.VideoCapture(os.path.join(test_frame_folder, vid))\n",
        "    frameRate = cap.get(5)\n",
        "    while cap.isOpened():\n",
        "        frameId = cap.get(1)\n",
        "        ret, frame = cap.read()\n",
        "        if ret != True:\n",
        "            break\n",
        "        if frameId % ((int(frameRate)+1)*1) == 0:\n",
        "            face_rects, scores, idx = detector.run(frame, 0)\n",
        "            for i, d in enumerate(face_rects):\n",
        "                x1 = d.left()\n",
        "                y1 = d.top()\n",
        "                x2 = d.right()\n",
        "                y2 = d.bottom()\n",
        "                crop_img = frame[y1:y2, x1:x2]\n",
        "                data = img_to_array(cv2.resize(crop_img, (224, 224))).flatten() / 255.0\n",
        "                data = data.reshape(-1, 224, 224, 3)\n",
        "    actual = data_test[vid]['label']\n",
        "    predicted = 'FAKE' if np.argmax(model.predict(data),axis=-1) ==[0] else 'REAL'\n",
        "    print(\"{vid} :   {predicted}   {actual} \".format(vid = vid,predicted = predicted,actual=actual))\n",
        "    \n",
        "   # Storing the predictions in an array\n",
        "    if np.argmax(model.predict(data),axis=-1) ==[0]:\n",
        "        predicted_value.append(0)\n",
        "    elif np.argmax(model.predict(data),axis=-1) ==[1]:\n",
        "        predicted_value.append(1)\n",
        "        \n",
        "    # The label in the json file is a string so in order to get the metrics wee need to convert them to arrays\n",
        "    if actual == 'FAKE':\n",
        "        actual_value.append(0)\n",
        "    elif actual == 'REAL':\n",
        "        actual_value.append(1)"
      ],
      "execution_count": null,
      "outputs": [
        {
          "output_type": "stream",
          "name": "stdout",
          "text": [
            "Video_name\tPredicted Actual\n",
            "-------------------------------\n",
            "abofeumbvv.mp4 :   FAKE   FAKE \n",
            "ahqqqilsxt.mp4 :   REAL   REAL \n",
            "aapnvogymq.mp4 :   FAKE   FAKE \n",
            "abarnvbtwb.mp4 :   FAKE   REAL \n",
            "ajwpjhrbcv.mp4 :   FAKE   FAKE \n",
            "aklqzsddfl.mp4 :   FAKE   FAKE \n",
            "abqwwspghj.mp4 :   FAKE   FAKE \n",
            "aagfhgtpmv.mp4 :   FAKE   FAKE \n",
            "aipfdnwpoo.mp4 :   FAKE   FAKE \n",
            "ajqslcypsw.mp4 :   REAL   REAL \n"
          ]
        }
      ]
    },
    {
      "cell_type": "code",
      "metadata": {
        "id": "jhCSMMht-LLD"
      },
      "source": [
        "predicted_value = np.array(predicted_value)  \n",
        "actual_value = np.array(actual_value)"
      ],
      "execution_count": null,
      "outputs": []
    },
    {
      "cell_type": "code",
      "metadata": {
        "colab": {
          "base_uri": "https://localhost:8080/"
        },
        "id": "pEcMnU2E-QNs",
        "outputId": "2326ec44-d315-4d90-d1fd-14a9e682080d"
      },
      "source": [
        "f1 = f1_score(actual_value,predicted_value)\n",
        "print(f'f1 score : {f1} \\n')"
      ],
      "execution_count": null,
      "outputs": [
        {
          "output_type": "stream",
          "name": "stdout",
          "text": [
            "f1 score : 0.8 \n",
            "\n"
          ]
        }
      ]
    },
    {
      "cell_type": "code",
      "metadata": {
        "colab": {
          "base_uri": "https://localhost:8080/",
          "height": 418
        },
        "id": "VYhPLZOa-Q2t",
        "outputId": "64530f0b-36c1-4d10-a10a-c4b1fe8affe1"
      },
      "source": [
        "print_confusion_matrix(actual_value,predicted_value)"
      ],
      "execution_count": null,
      "outputs": [
        {
          "output_type": "stream",
          "name": "stdout",
          "text": [
            "True positive =  7\n",
            "False positive =  0\n",
            "False negative =  1\n",
            "True negative =  2\n",
            "\n",
            "\n"
          ]
        },
        {
          "output_type": "display_data",
          "data": {
            "image/png": "[encoded data removed]",
            "text/plain": [
              "<Figure size 432x288 with 2 Axes>"
            ]
          },
          "metadata": {}
        }
      ]
    },
    {
      "cell_type": "code",
      "metadata": {
        "colab": {
          "base_uri": "https://localhost:8080/"
        },
        "id": "r97X_Gq5-Tjz",
        "outputId": "843b1719-0281-4b76-e344-89efa04f25e8"
      },
      "source": [
        "cr = classification_report(actual_value,predicted_value)\n",
        "print(f'Classification report : \\n{cr}')"
      ],
      "execution_count": null,
      "outputs": [
        {
          "output_type": "stream",
          "name": "stdout",
          "text": [
            "Classification report : \n",
            "              precision    recall  f1-score   support\n",
            "\n",
            "           0       0.88      1.00      0.93         7\n",
            "           1       1.00      0.67      0.80         3\n",
            "\n",
            "    accuracy                           0.90        10\n",
            "   macro avg       0.94      0.83      0.87        10\n",
            "weighted avg       0.91      0.90      0.89        10\n",
            "\n"
          ]
        }
      ]
    },
    {
      "cell_type": "code",
      "metadata": {
        "id": "SR21yYrp-WST"
      },
      "source": [
        ""
      ],
      "execution_count": null,
      "outputs": []
    }
  ]
}