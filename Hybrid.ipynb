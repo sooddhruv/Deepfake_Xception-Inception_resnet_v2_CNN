{
  "nbformat": 4,
  "nbformat_minor": 0,
  "metadata": {
    "colab": {
      "name": "Inception-ResNet-v2 _CNN.ipynb",
      "provenance": [],
      "collapsed_sections": [],
      "authorship_tag": "ABX9TyP7EAM6rU3zKJq0x80xLR0z",
      "include_colab_link": true
    },
    "kernelspec": {
      "name": "python3",
      "display_name": "Python 3"
    },
    "language_info": {
      "name": "python"
    },
    "accelerator": "GPU"
  },
  "cells": [
    {
      "cell_type": "markdown",
      "metadata": {
        "id": "view-in-github",
        "colab_type": "text"
      },
      "source": [
        "<a href=\"https://colab.research.google.com/github/sooddhruv/Deepfake_Xception-Inception_resnet_v2_CNN/blob/main/Hybrid.ipynb\" target=\"_parent\"><img src=\"https://colab.research.google.com/assets/colab-badge.svg\" alt=\"Open In Colab\"/></a>"
      ]
    },
    {
      "cell_type": "code",
      "metadata": {
        "id": "XuuGXKmEw_SX"
      },
      "source": [
        "import dlib\n",
        "import cv2\n",
        "import os\n",
        "import re\n",
        "import json\n",
        "from pylab import *\n",
        "from PIL import Image, ImageChops, ImageEnhance\n",
        "import tensorflow as tf\n",
        "import numpy as np\n",
        "import matplotlib.pyplot as plt\n",
        "import seaborn as sn\n",
        "import pandas as pd\n",
        "from tensorflow.keras.preprocessing.image import ImageDataGenerator, img_to_array, load_img\n",
        "from tensorflow.keras.utils import to_categorical\n",
        "from sklearn.model_selection import train_test_split\n",
        "from sklearn.metrics import confusion_matrix,f1_score,classification_report\n",
        "from tensorflow.keras.models import load_model"
      ],
      "execution_count": 1,
      "outputs": []
    },
    {
      "cell_type": "code",
      "metadata": {
        "colab": {
          "base_uri": "https://localhost:8080/"
        },
        "id": "AqzMjfwYxMpJ",
        "outputId": "9ded7003-303e-468f-d73d-c5520d7c851e"
      },
      "source": [
        "from google.colab import drive\n",
        "drive.mount('/content/drive')\n"
      ],
      "execution_count": 2,
      "outputs": [
        {
          "output_type": "stream",
          "name": "stdout",
          "text": [
            "Mounted at /content/drive\n"
          ]
        }
      ]
    },
    {
      "cell_type": "code",
      "metadata": {
        "id": "jbvU8hq8xFbJ"
      },
      "source": [
        "train_frame_folder = '/content/drive/MyDrive/Train'\n",
        "\n",
        "#loading the data from json file\n",
        "with open(os.path.join(train_frame_folder, 'metadata.json'), 'r') as file:\n",
        "    data = json.load(file)\n",
        "    \n",
        "# Saving the names of videos in a list\n",
        "\n",
        "list_of_train_data = []\n",
        "\n",
        "for f in os.listdir(train_frame_folder):\n",
        "    if f.endswith('.mp4'):\n",
        "        list_of_train_data.append(f)\n",
        "\n",
        "detector = dlib.get_frontal_face_detector()\n",
        "for vid in list_of_train_data:\n",
        "    count = 0\n",
        "    cap = cv2.VideoCapture(os.path.join(train_frame_folder, vid))\n",
        "    frameRate = cap.get(5)\n",
        "    while cap.isOpened():\n",
        "        frameId = cap.get(1)\n",
        "        ret, frame = cap.read()\n",
        "        if ret != True:\n",
        "            break\n",
        "        if frameId % ((int(frameRate)+1)*1) == 0:\n",
        "            face_rects, scores, idx = detector.run(frame, 0)\n",
        "            for i, d in enumerate(face_rects):\n",
        "                x1 = d.left()\n",
        "                y1 = d.top()\n",
        "                x2 = d.right()\n",
        "                y2 = d.bottom()\n",
        "                crop_img = frame[y1:y2, x1:x2]\n",
        "                # Resizing the cropped image and saving it to dataset folder in png format\n",
        "                if data[vid]['label'] == 'REAL':\n",
        "                    cv2.imwrite('dataset/real/'+vid.split('.')[0]+'_'+str(count)+'.png', cv2.resize(crop_img, (224, 224)))\n",
        "                elif data[vid]['label'] == 'FAKE':\n",
        "                    cv2.imwrite('dataset/fake/'+vid.split('.')[0]+'_'+str(count)+'.png', cv2.resize(crop_img, (224, 224)))\n",
        "                count+=1"
      ],
      "execution_count": 5,
      "outputs": []
    },
    {
      "cell_type": "code",
      "metadata": {
        "id": "6XLpgP6Fxp-f"
      },
      "source": [
        "input_shape = (224, 224, 3)\n",
        "data_dir = 'dataset'\n",
        "\n",
        "\n",
        "#Storing the real and fake image names in lists\n",
        "real_data = []\n",
        "fake_data = []\n",
        "\n",
        "for f in os.listdir(data_dir+'/real'):\n",
        "    if f.endswith('.png'):\n",
        "        real_data.append(f)\n",
        "    \n",
        "for f in os.listdir(data_dir+'/fake'):\n",
        "    if f.endswith('.png'):\n",
        "        fake_data.append(f)    \n",
        "\n",
        "#Creating an empty array to store the real and fake image data\n",
        "X = []\n",
        "\n",
        "#Creating an empty array store the labels\n",
        "Y = []\n",
        "\n",
        "\n",
        "#Appending Numpy array info of image to X and label info to Y (1 for real and 0 for fake)\n",
        "for img in real_data:\n",
        "    X.append(img_to_array(load_img(data_dir+'/real/'+img)).flatten() / 255.0)\n",
        "    Y.append(1)\n",
        "for img in fake_data:\n",
        "    X.append(img_to_array(load_img(data_dir+'/fake/'+img)).flatten() / 255.0)\n",
        "    Y.append(0)\n",
        "\n",
        "Y_val_org = Y\n",
        "\n",
        "#Normalization\n",
        "X = np.array(X)\n",
        "Y = to_categorical(Y, 2)\n",
        "\n",
        "#Reshape\n",
        "X = X.reshape(-1, 224, 224, 3)\n",
        "\n",
        "#Train-Test split\n",
        "X_train, X_val, Y_train, Y_val = train_test_split(X, Y, test_size = 0.25, random_state=5)"
      ],
      "execution_count": 6,
      "outputs": []
    },
    {
      "cell_type": "code",
      "metadata": {
        "colab": {
          "base_uri": "https://localhost:8080/"
        },
        "id": "HlTzhTtp5tQG",
        "outputId": "0bb8fea8-8fdc-4f7b-893b-62409840ea42"
      },
      "source": [
        "from tensorflow.keras.applications import InceptionResNetV2\n",
        "from tensorflow.keras.layers import Conv2D, MaxPooling2D, Flatten, Dense, Dropout, InputLayer, GlobalAveragePooling2D\n",
        "from tensorflow.keras.models import Sequential, Model\n",
        "from tensorflow.keras import optimizers\n",
        "from tensorflow.keras.callbacks import ReduceLROnPlateau, EarlyStopping\n",
        "\n",
        "googleNet_model = InceptionResNetV2(include_top=False, weights='imagenet', input_shape=input_shape)\n",
        "googleNet_model.trainable = True\n",
        "model = Sequential()\n",
        "model.add(googleNet_model)\n",
        "model.add(GlobalAveragePooling2D())\n",
        "#model.add(Dense(units=64, activation='relu'))\n",
        "model.add(Dense(units=2, activation='softmax'))\n",
        "model.compile(loss='binary_crossentropy',\n",
        "              optimizer=optimizers.Adam(lr=1e-5, beta_1=0.9, beta_2=0.999, epsilon=None, decay=0.0, amsgrad=False),\n",
        "              metrics=['accuracy'])\n",
        "model.summary()"
      ],
      "execution_count": 7,
      "outputs": [
        {
          "output_type": "stream",
          "name": "stdout",
          "text": [
            "Downloading data from https://storage.googleapis.com/tensorflow/keras-applications/inception_resnet_v2/inception_resnet_v2_weights_tf_dim_ordering_tf_kernels_notop.h5\n",
            "219062272/219055592 [==============================] - 2s 0us/step\n",
            "219070464/219055592 [==============================] - 2s 0us/step\n",
            "Model: \"sequential\"\n",
            "_________________________________________________________________\n",
            " Layer (type)                Output Shape              Param #   \n",
            "=================================================================\n",
            " inception_resnet_v2 (Functi  (None, 5, 5, 1536)       54336736  \n",
            " onal)                                                           \n",
            "                                                                 \n",
            " global_average_pooling2d (G  (None, 1536)             0         \n",
            " lobalAveragePooling2D)                                          \n",
            "                                                                 \n",
            " dense (Dense)               (None, 2)                 3074      \n",
            "                                                                 \n",
            "=================================================================\n",
            "Total params: 54,339,810\n",
            "Trainable params: 54,279,266\n",
            "Non-trainable params: 60,544\n",
            "_________________________________________________________________\n"
          ]
        },
        {
          "output_type": "stream",
          "name": "stderr",
          "text": [
            "/usr/local/lib/python3.7/dist-packages/keras/optimizer_v2/adam.py:105: UserWarning: The `lr` argument is deprecated, use `learning_rate` instead.\n",
            "  super(Adam, self).__init__(name, **kwargs)\n"
          ]
        }
      ]
    },
    {
      "cell_type": "code",
      "metadata": {
        "colab": {
          "base_uri": "https://localhost:8080/"
        },
        "id": "uG19ZAN56L_h",
        "outputId": "67ba2811-cff8-4caa-fe09-ac9366fc0523"
      },
      "source": [
        "early_stopping = EarlyStopping(monitor='val_loss',\n",
        "                               min_delta=0,\n",
        "                               patience=2,\n",
        "                               verbose=0, mode='auto')\n",
        "EPOCHS = 10\n",
        "BATCH_SIZE = 25\n",
        "history = model.fit(X_train, Y_train, batch_size = BATCH_SIZE, epochs = EPOCHS, validation_data = (X_val, Y_val), verbose = 1)"
      ],
      "execution_count": 8,
      "outputs": [
        {
          "output_type": "stream",
          "name": "stdout",
          "text": [
            "Epoch 1/10\n",
            "59/59 [==============================] - 138s 2s/step - loss: 0.5925 - accuracy: 0.7562 - val_loss: 0.6805 - val_accuracy: 0.5711\n",
            "Epoch 2/10\n",
            "59/59 [==============================] - 94s 2s/step - loss: 0.4464 - accuracy: 0.8657 - val_loss: 0.5423 - val_accuracy: 0.7320\n",
            "Epoch 3/10\n",
            "59/59 [==============================] - 94s 2s/step - loss: 0.3120 - accuracy: 0.9236 - val_loss: 0.4671 - val_accuracy: 0.8371\n",
            "Epoch 4/10\n",
            "59/59 [==============================] - 94s 2s/step - loss: 0.1900 - accuracy: 0.9628 - val_loss: 0.4333 - val_accuracy: 0.8639\n",
            "Epoch 5/10\n",
            "59/59 [==============================] - 94s 2s/step - loss: 0.1021 - accuracy: 0.9814 - val_loss: 0.4133 - val_accuracy: 0.8887\n",
            "Epoch 6/10\n",
            "59/59 [==============================] - 94s 2s/step - loss: 0.0572 - accuracy: 0.9931 - val_loss: 0.3926 - val_accuracy: 0.9010\n",
            "Epoch 7/10\n",
            "59/59 [==============================] - 94s 2s/step - loss: 0.0385 - accuracy: 0.9931 - val_loss: 0.4373 - val_accuracy: 0.9031\n",
            "Epoch 8/10\n",
            "59/59 [==============================] - 94s 2s/step - loss: 0.0293 - accuracy: 0.9959 - val_loss: 0.3917 - val_accuracy: 0.9093\n",
            "Epoch 9/10\n",
            "59/59 [==============================] - 94s 2s/step - loss: 0.0213 - accuracy: 0.9986 - val_loss: 0.4146 - val_accuracy: 0.9093\n",
            "Epoch 10/10\n",
            "59/59 [==============================] - 94s 2s/step - loss: 0.0215 - accuracy: 0.9959 - val_loss: 0.4455 - val_accuracy: 0.9052\n"
          ]
        }
      ]
    },
    {
      "cell_type": "code",
      "source": [
        "from tensorflow.keras.applications import Xception\n",
        "from tensorflow.keras.layers import Conv2D, MaxPooling2D, Flatten, Dense, Dropout, InputLayer, GlobalAveragePooling2D\n",
        "from tensorflow.keras.models import Sequential, Model\n",
        "from tensorflow.keras import optimizers\n",
        "from tensorflow.keras.callbacks import ReduceLROnPlateau, EarlyStopping\n",
        "\n",
        "googleNet_model = Xception(include_top=False, weights='imagenet', input_shape=input_shape)\n",
        "googleNet_model.trainable = True\n",
        "model = Sequential()\n",
        "model.add(googleNet_model)\n",
        "model.add(GlobalAveragePooling2D())\n",
        "#model.add(Dense(units=64, activation='relu'))\n",
        "model.add(Dense(units=2, activation='softmax'))\n",
        "model.compile(loss='binary_crossentropy',\n",
        "              optimizer=optimizers.Adam(lr=1e-5, beta_1=0.9, beta_2=0.999, epsilon=None, decay=0.0, amsgrad=False),\n",
        "              metrics=['accuracy'])\n",
        "model.summary()"
      ],
      "metadata": {
        "id": "9ifE9_jkxIoX",
        "outputId": "b8d617ff-001f-4f25-9efc-067a07dbe8bb",
        "colab": {
          "base_uri": "https://localhost:8080/"
        }
      },
      "execution_count": 9,
      "outputs": [
        {
          "output_type": "stream",
          "name": "stdout",
          "text": [
            "Downloading data from https://storage.googleapis.com/tensorflow/keras-applications/xception/xception_weights_tf_dim_ordering_tf_kernels_notop.h5\n",
            "83689472/83683744 [==============================] - 1s 0us/step\n",
            "83697664/83683744 [==============================] - 1s 0us/step\n",
            "Model: \"sequential_1\"\n",
            "_________________________________________________________________\n",
            " Layer (type)                Output Shape              Param #   \n",
            "=================================================================\n",
            " xception (Functional)       (None, 7, 7, 2048)        20861480  \n",
            "                                                                 \n",
            " global_average_pooling2d_1   (None, 2048)             0         \n",
            " (GlobalAveragePooling2D)                                        \n",
            "                                                                 \n",
            " dense_1 (Dense)             (None, 2)                 4098      \n",
            "                                                                 \n",
            "=================================================================\n",
            "Total params: 20,865,578\n",
            "Trainable params: 20,811,050\n",
            "Non-trainable params: 54,528\n",
            "_________________________________________________________________\n"
          ]
        },
        {
          "output_type": "stream",
          "name": "stderr",
          "text": [
            "/usr/local/lib/python3.7/dist-packages/keras/optimizer_v2/adam.py:105: UserWarning: The `lr` argument is deprecated, use `learning_rate` instead.\n",
            "  super(Adam, self).__init__(name, **kwargs)\n"
          ]
        }
      ]
    },
    {
      "cell_type": "code",
      "source": [
        "early_stopping = EarlyStopping(monitor='val_loss',\n",
        "                               min_delta=0,\n",
        "                               patience=2,\n",
        "                               verbose=0, mode='auto')\n",
        "EPOCHS = 10\n",
        "BATCH_SIZE = 25\n",
        "history = model.fit(X_train, Y_train, batch_size = BATCH_SIZE, epochs = EPOCHS, validation_data = (X_val, Y_val), verbose = 1)"
      ],
      "metadata": {
        "id": "MFDm5Qkox16L",
        "outputId": "908c8524-9b64-4c5d-d0ff-53798f75674f",
        "colab": {
          "base_uri": "https://localhost:8080/"
        }
      },
      "execution_count": 10,
      "outputs": [
        {
          "output_type": "stream",
          "name": "stdout",
          "text": [
            "Epoch 1/10\n",
            "59/59 [==============================] - 97s 1s/step - loss: 0.6174 - accuracy: 0.7521 - val_loss: 0.6174 - val_accuracy: 0.7670\n",
            "Epoch 2/10\n",
            "59/59 [==============================] - 84s 1s/step - loss: 0.5292 - accuracy: 0.7955 - val_loss: 0.5347 - val_accuracy: 0.8371\n",
            "Epoch 3/10\n",
            "59/59 [==============================] - 84s 1s/step - loss: 0.4480 - accuracy: 0.8629 - val_loss: 0.4471 - val_accuracy: 0.8722\n",
            "Epoch 4/10\n",
            "59/59 [==============================] - 84s 1s/step - loss: 0.3718 - accuracy: 0.9112 - val_loss: 0.3714 - val_accuracy: 0.8990\n",
            "Epoch 5/10\n",
            "59/59 [==============================] - 83s 1s/step - loss: 0.3065 - accuracy: 0.9325 - val_loss: 0.3134 - val_accuracy: 0.9052\n",
            "Epoch 6/10\n",
            "59/59 [==============================] - 84s 1s/step - loss: 0.2400 - accuracy: 0.9594 - val_loss: 0.2641 - val_accuracy: 0.9155\n",
            "Epoch 7/10\n",
            "59/59 [==============================] - 83s 1s/step - loss: 0.1932 - accuracy: 0.9642 - val_loss: 0.2267 - val_accuracy: 0.9196\n",
            "Epoch 8/10\n",
            "59/59 [==============================] - 84s 1s/step - loss: 0.1446 - accuracy: 0.9773 - val_loss: 0.2033 - val_accuracy: 0.9299\n",
            "Epoch 9/10\n",
            "59/59 [==============================] - 84s 1s/step - loss: 0.1188 - accuracy: 0.9780 - val_loss: 0.1884 - val_accuracy: 0.9340\n",
            "Epoch 10/10\n",
            "59/59 [==============================] - 83s 1s/step - loss: 0.0887 - accuracy: 0.9883 - val_loss: 0.1777 - val_accuracy: 0.9340\n"
          ]
        }
      ]
    },
    {
      "cell_type": "code",
      "metadata": {
        "colab": {
          "base_uri": "https://localhost:8080/",
          "height": 416
        },
        "id": "ci_KGC6z7woT",
        "outputId": "d6827dc7-b9fc-428a-fc22-215636d9bbd8"
      },
      "source": [
        "\n",
        "f, (ax1, ax2) = plt.subplots(1, 2, figsize=(25, 6))\n",
        "t = f.suptitle('Pre-trained Hybrid Transfer Learn with Fine-Tuning & Image Augmentation Performance ', fontsize=12)\n",
        "f.subplots_adjust(top=0.85, wspace=0.3)\n",
        "\n",
        "epoch_list = list(range(1,EPOCHS+1))\n",
        "ax1.plot(epoch_list, history.history['accuracy'], label='Train Accuracy')\n",
        "ax1.plot(epoch_list, history.history['val_accuracy'], label='Validation Accuracy')\n",
        "ax1.set_xticks(np.arange(0, EPOCHS+1, 1))\n",
        "ax1.set_ylabel('Accuracy Value')\n",
        "ax1.set_xlabel('Epoch #')\n",
        "ax1.set_title('Accuracy')\n",
        "l1 = ax1.legend(loc=\"best\")\n",
        "\n",
        "ax2.plot(epoch_list, history.history['loss'], label='Train Loss')\n",
        "ax2.plot(epoch_list, history.history['val_loss'], label='Validation Loss')\n",
        "ax2.set_xticks(np.arange(0, EPOCHS+1, 1))\n",
        "ax2.set_ylabel('Loss Value')\n",
        "ax2.set_xlabel('Epoch #')\n",
        "ax2.set_title('Loss')\n",
        "l2 = ax2.legend(loc=\"best\")"
      ],
      "execution_count": 11,
      "outputs": [
        {
          "output_type": "display_data",
          "data": {
            "image/png": "[encoded data removed]",
            "text/plain": [
              "<Figure size 1800x432 with 2 Axes>"
            ]
          },
          "metadata": {
            "needs_background": "light"
          }
        }
      ]
    },
    {
      "cell_type": "code",
      "metadata": {
        "colab": {
          "base_uri": "https://localhost:8080/",
          "height": 418
        },
        "id": "TsR6Wlu577n7",
        "outputId": "71c623ee-00b8-48a6-9d9c-12ab1d8e812d"
      },
      "source": [
        "#Output confusion matrix\n",
        "def print_confusion_matrix(y_true, y_pred):\n",
        "    cm = confusion_matrix(y_true, y_pred)\n",
        "    print('True positive = ', cm[0][0])\n",
        "    print('False positive = ', cm[0][1])\n",
        "    print('False negative = ', cm[1][0])\n",
        "    print('True negative = ', cm[1][1])\n",
        "    print('\\n')\n",
        "    df_cm = pd.DataFrame(cm, range(2), range(2))\n",
        "    sn.set(font_scale=1.4) # for label size\n",
        "    sn.heatmap(df_cm, annot=True, annot_kws={\"size\": 16}) # font size\n",
        "    plt.ylabel('Actual label', size = 20)\n",
        "    plt.xlabel('Predicted label', size = 20)\n",
        "    plt.xticks(np.arange(2), ['Fake', 'Real'], size = 16)\n",
        "    plt.yticks(np.arange(2), ['Fake', 'Real'], size = 16)\n",
        "    plt.ylim([2, 0])\n",
        "    plt.show()\n",
        "    \n",
        "print_confusion_matrix(Y_val_org, np.argmax(model.predict(X),axis=-1))"
      ],
      "execution_count": 12,
      "outputs": [
        {
          "output_type": "stream",
          "name": "stdout",
          "text": [
            "True positive =  1483\n",
            "False positive =  3\n",
            "False negative =  34\n",
            "True negative =  417\n",
            "\n",
            "\n"
          ]
        },
        {
          "output_type": "display_data",
          "data": {
            "image/png": "[encoded data removed]",
            "text/plain": [
              "<Figure size 432x288 with 2 Axes>"
            ]
          },
          "metadata": {}
        }
      ]
    },
    {
      "cell_type": "code",
      "metadata": {
        "colab": {
          "base_uri": "https://localhost:8080/"
        },
        "id": "MMGHTDwC8GNd",
        "outputId": "aa1d0005-c773-4b74-bdbb-d78989f00e7c"
      },
      "source": [
        "f1 = f1_score(Y_val_org, np.argmax(model.predict(X),axis=-1))\n",
        "cr = classification_report(Y_val_org, np.argmax(model.predict(X),axis = -1))\n",
        "print(f'f1 score (Hybrid) : {f1} \\n')\n",
        "print(f'Classification report : \\n{cr}')"
      ],
      "execution_count": 13,
      "outputs": [
        {
          "output_type": "stream",
          "name": "stdout",
          "text": [
            "f1 score (Hybrid) : 0.9575200918484501 \n",
            "\n",
            "Classification report : \n",
            "              precision    recall  f1-score   support\n",
            "\n",
            "           0       0.98      1.00      0.99      1486\n",
            "           1       0.99      0.92      0.96       451\n",
            "\n",
            "    accuracy                           0.98      1937\n",
            "   macro avg       0.99      0.96      0.97      1937\n",
            "weighted avg       0.98      0.98      0.98      1937\n",
            "\n"
          ]
        }
      ]
    },
    {
      "cell_type": "code",
      "metadata": {
        "id": "GxZPeplV8PtR",
        "outputId": "31260ba8-9799-4fcf-fd9f-b228fc66d3cb",
        "colab": {
          "base_uri": "https://localhost:8080/"
        }
      },
      "source": [
        "\n",
        "model.save('deepfake-detection-model.h5')"
      ],
      "execution_count": 14,
      "outputs": [
        {
          "output_type": "stream",
          "name": "stderr",
          "text": [
            "/usr/local/lib/python3.7/dist-packages/keras/engine/functional.py:1410: CustomMaskWarning: Custom mask layers require a config and must override get_config. When loading, the custom mask layer must be passed to the custom_objects argument.\n",
            "  layer_config = serialize_layer_fn(layer)\n"
          ]
        }
      ]
    },
    {
      "cell_type": "code",
      "metadata": {
        "id": "QSr29RQB8V_I"
      },
      "source": [
        "model = load_model('deepfake-detection-model.h5')"
      ],
      "execution_count": 15,
      "outputs": []
    },
    {
      "cell_type": "code",
      "metadata": {
        "colab": {
          "base_uri": "https://localhost:8080/"
        },
        "id": "c3fn6LHK8ZWD",
        "outputId": "60998408-0c8e-41af-ae4e-a38389c3ad34"
      },
      "source": [
        "test_frame_folder = '/content/drive/MyDrive/test_videos (4)'\n",
        "list_of_test_data = [f for f in os.listdir(test_frame_folder) if f.endswith('.mp4')]\n",
        "detector = dlib.get_frontal_face_detector()\n",
        "with open(os.path.join(test_frame_folder, 'metadata.json'), 'r') as file:\n",
        "    data_test = json.load(file)\n",
        "    \n",
        "actual_value = []\n",
        "predicted_value = []\n",
        "    \n",
        "print('Video_name\\tPredicted Actual')\n",
        "print('-------------------------------')\n",
        "    \n",
        "for vid in list_of_test_data:\n",
        "    count = 0\n",
        "    cap = cv2.VideoCapture(os.path.join(test_frame_folder, vid))\n",
        "    frameRate = cap.get(5)\n",
        "    while cap.isOpened():\n",
        "        frameId = cap.get(1)\n",
        "        ret, frame = cap.read()\n",
        "        if ret != True:\n",
        "            break\n",
        "        if frameId % ((int(frameRate)+1)*1) == 0:\n",
        "            face_rects, scores, idx = detector.run(frame, 0)\n",
        "            for i, d in enumerate(face_rects):\n",
        "                x1 = d.left()\n",
        "                y1 = d.top()\n",
        "                x2 = d.right()\n",
        "                y2 = d.bottom()\n",
        "                crop_img = frame[y1:y2, x1:x2]\n",
        "                data = img_to_array(cv2.resize(crop_img, (224, 224))).flatten() / 255.0\n",
        "                data = data.reshape(-1, 224, 224, 3)\n",
        "    actual = data_test[vid]['label']\n",
        "    predicted = 'FAKE' if np.argmax(model.predict(data),axis=-1) ==[0] else 'REAL'\n",
        "    print(\"{vid} :   {predicted}   {actual} \".format(vid = vid,predicted = predicted,actual=actual))\n",
        "    \n",
        "   # Storing the predictions in an array\n",
        "    if np.argmax(model.predict(data),axis=-1) ==[0]:\n",
        "        predicted_value.append(0)\n",
        "    elif np.argmax(model.predict(data),axis=-1) ==[1]:\n",
        "        predicted_value.append(1)\n",
        "        \n",
        "    # The label in the json file is a string so in order to get the metrics wee need to convert them to arrays\n",
        "    if actual == 'FAKE':\n",
        "        actual_value.append(0)\n",
        "    elif actual == 'REAL':\n",
        "        actual_value.append(1)"
      ],
      "execution_count": 18,
      "outputs": [
        {
          "output_type": "stream",
          "name": "stdout",
          "text": [
            "Video_name\tPredicted Actual\n",
            "-------------------------------\n",
            "ahqqqilsxt.mp4 :   FAKE   REAL \n",
            "abqwwspghj.mp4 :   FAKE   FAKE \n",
            "abofeumbvv.mp4 :   FAKE   FAKE \n",
            "abarnvbtwb.mp4 :   FAKE   REAL \n",
            "aapnvogymq.mp4 :   FAKE   FAKE \n",
            "aagfhgtpmv.mp4 :   FAKE   FAKE \n",
            "ajqslcypsw.mp4 :   REAL   REAL \n",
            "aklqzsddfl.mp4 :   FAKE   FAKE \n",
            "ajwpjhrbcv.mp4 :   FAKE   FAKE \n",
            "aipfdnwpoo.mp4 :   FAKE   FAKE \n"
          ]
        }
      ]
    },
    {
      "cell_type": "code",
      "metadata": {
        "id": "jhCSMMht-LLD"
      },
      "source": [
        "predicted_value = np.array(predicted_value)  \n",
        "actual_value = np.array(actual_value)"
      ],
      "execution_count": 19,
      "outputs": []
    },
    {
      "cell_type": "code",
      "metadata": {
        "colab": {
          "base_uri": "https://localhost:8080/"
        },
        "id": "pEcMnU2E-QNs",
        "outputId": "a175c82e-0306-4a49-e597-e334731d7abd"
      },
      "source": [
        "f1 = f1_score(actual_value,predicted_value)\n",
        "print(f'f1 score : {f1} \\n')"
      ],
      "execution_count": 20,
      "outputs": [
        {
          "output_type": "stream",
          "name": "stdout",
          "text": [
            "f1 score : 0.5 \n",
            "\n"
          ]
        }
      ]
    },
    {
      "cell_type": "code",
      "metadata": {
        "colab": {
          "base_uri": "https://localhost:8080/",
          "height": 418
        },
        "id": "VYhPLZOa-Q2t",
        "outputId": "2fec5610-ab1b-4e13-bb44-a4696874252a"
      },
      "source": [
        "print_confusion_matrix(actual_value,predicted_value)"
      ],
      "execution_count": 21,
      "outputs": [
        {
          "output_type": "stream",
          "name": "stdout",
          "text": [
            "True positive =  7\n",
            "False positive =  0\n",
            "False negative =  2\n",
            "True negative =  1\n",
            "\n",
            "\n"
          ]
        },
        {
          "output_type": "display_data",
          "data": {
            "image/png": "[encoded data removed]",
            "text/plain": [
              "<Figure size 432x288 with 2 Axes>"
            ]
          },
          "metadata": {}
        }
      ]
    },
    {
      "cell_type": "code",
      "metadata": {
        "colab": {
          "base_uri": "https://localhost:8080/"
        },
        "id": "r97X_Gq5-Tjz",
        "outputId": "204e46bb-9798-4b4e-f6b7-df5ff534b08a"
      },
      "source": [
        "cr = classification_report(actual_value,predicted_value)\n",
        "print(f'Classification report : \\n{cr}')"
      ],
      "execution_count": 22,
      "outputs": [
        {
          "output_type": "stream",
          "name": "stdout",
          "text": [
            "Classification report : \n",
            "              precision    recall  f1-score   support\n",
            "\n",
            "           0       0.78      1.00      0.88         7\n",
            "           1       1.00      0.33      0.50         3\n",
            "\n",
            "    accuracy                           0.80        10\n",
            "   macro avg       0.89      0.67      0.69        10\n",
            "weighted avg       0.84      0.80      0.76        10\n",
            "\n"
          ]
        }
      ]
    },
    {
      "cell_type": "code",
      "metadata": {
        "id": "SR21yYrp-WST"
      },
      "source": [
        ""
      ],
      "execution_count": null,
      "outputs": []
    }
  ]
}